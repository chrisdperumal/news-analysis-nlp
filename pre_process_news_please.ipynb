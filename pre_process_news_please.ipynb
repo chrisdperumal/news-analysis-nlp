{
 "cells": [
  {
   "cell_type": "code",
   "execution_count": 5,
   "metadata": {},
   "outputs": [],
   "source": [
    "import os\n",
    "from pathlib import Path\n",
    "import json\n",
    "import spacy\n",
    "from spacy_download import load_spacy\n",
    "\n",
    "# Will download the model if it isn't installed yet\n",
    "nlp = load_spacy(\"en_core_web_lg\")  "
   ]
  },
  {
   "cell_type": "code",
   "execution_count": 6,
   "metadata": {},
   "outputs": [],
   "source": [
    "# process news articles retreived from the crawler\n",
    "news_directory = '/Users/chrisperumal/news-please-repo/data/2024/04/17'\n",
    "news_content = []\n",
    "\n",
    "news_sources = os.listdir(news_directory)\n",
    "\n",
    "for source in news_sources:\n",
    "    news_path = Path(news_directory, source)\n",
    "    json_content = [f for f in news_path.glob('*.json') if f.is_file()]\n",
    "\n",
    "    for json_path in json_content:\n",
    "        with open(json_path, 'r', encoding='utf-8') as f:\n",
    "            data = json.load(f)\n",
    "\n",
    "        # if the news article didn't have any text data\n",
    "        if data['maintext'] is None or data['language'] != 'en':\n",
    "            continue\n",
    "\n",
    "        # remove the following substrings from the data:\n",
    "        main_text = data['maintext']\n",
    "        main_text = main_text.replace(\"Editorial Note: We earn a commission from partner links on Forbes Advisor. Commissions do not affect our editors' opinions or evaluations.\", \"\", 1)\n",
    "        main_text = main_text.replace(\"You might be using an unsupported or outdated browser. To get the best possible experience please use the latest version of Chrome, Firefox, Safari, or Microsoft Edge to view this website.\", \"\", 1)\n",
    "        main_text = main_text.replace(\"Our editors are committed to bringing you unbiased ratings and information. Our editorial content is not influenced by advertisers. We use data-driven methodologies to evaluate financial products and companies, so all are measured equally. You can read more about our editorial guidelines and the credit card methodology for the ratings below.\", \"\", 1)\n",
    "\n",
    "        if main_text == \"\":\n",
    "            continue\n",
    "\n",
    "        doc = nlp(main_text)\n",
    "        # remove punctuation, stop words and any additional complex punctuation characters\n",
    "        tokens = [token.text for token in doc if token.text not in '\\n\\n \\n\\n\\n\\t\\n ']\n",
    "        cleaned_text = ' '.join(tokens)\n",
    "        # initial cleanup of the article\n",
    "        news_content.append(cleaned_text)\n"
   ]
  },
  {
   "cell_type": "code",
   "execution_count": null,
   "metadata": {},
   "outputs": [],
   "source": [
    "remove_duplicates = set(news_content)\n",
    "news_content = list(remove_duplicates)"
   ]
  },
  {
   "cell_type": "code",
   "execution_count": 8,
   "metadata": {},
   "outputs": [],
   "source": [
    "output_filename = \"article_content.json\"\n",
    "\n",
    "# Write the list to the file as JSON so that I don't have to process it multiple times\n",
    "with open(output_filename, 'w', encoding='utf-8') as file:\n",
    "    json.dump(news_content, file, indent=4)"
   ]
  }
 ],
 "metadata": {
  "kernelspec": {
   "display_name": "Python 3.10.5 64-bit",
   "language": "python",
   "name": "python3"
  },
  "language_info": {
   "codemirror_mode": {
    "name": "ipython",
    "version": 3
   },
   "file_extension": ".py",
   "mimetype": "text/x-python",
   "name": "python",
   "nbconvert_exporter": "python",
   "pygments_lexer": "ipython3",
   "version": "3.10.5"
  },
  "vscode": {
   "interpreter": {
    "hash": "26de051ba29f2982a8de78e945f0abaf191376122a1563185a90213a26c5da77"
   }
  }
 },
 "nbformat": 4,
 "nbformat_minor": 2
}
