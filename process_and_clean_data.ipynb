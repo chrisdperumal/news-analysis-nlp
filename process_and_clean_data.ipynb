{
 "cells": [
  {
   "cell_type": "code",
   "execution_count": 1,
   "metadata": {},
   "outputs": [
    {
     "name": "stdout",
     "output_type": "stream",
     "text": [
      "\u001b[38;5;2m✔ Download and installation successful\u001b[0m\n",
      "You can now load the package via spacy.load('en_core_web_lg')\n",
      "\u001b[38;5;3m⚠ Restart to reload dependencies\u001b[0m\n",
      "If you are in a Jupyter or Colab notebook, you may need to restart Python in\n",
      "order to load all the package's dependencies. You can do this by selecting the\n",
      "'Restart kernel' or 'Restart runtime' option.\n"
     ]
    }
   ],
   "source": [
    "import os\n",
    "from pathlib import Path\n",
    "import json\n",
    "import spacy\n",
    "from spacy_download import load_spacy\n",
    "\n",
    "# Will download the model if it isn't installed yet\n",
    "nlp = load_spacy(\"en_core_web_lg\")  "
   ]
  },
  {
   "cell_type": "code",
   "execution_count": 22,
   "metadata": {},
   "outputs": [],
   "source": [
    "# process news articles retreived from the crawler\n",
    "news_directory = 'C:\\\\Users\\\\perumalc\\\\Documents\\\\news_articles'\n",
    "news_content = []\n",
    "\n",
    "news_sources = os.listdir(news_directory)\n",
    "\n",
    "for source in news_sources:\n",
    "    news_path = Path(news_directory, source)\n",
    "    json_content = [f for f in news_path.glob('*.json') if f.is_file()]\n",
    "\n",
    "    for json_path in json_content:\n",
    "        with open(json_path, 'r', encoding='utf-8') as f:\n",
    "            data = json.load(f)\n",
    "\n",
    "        # if the news article didn't have any text data\n",
    "        if data['maintext'] is None or data['language'] != 'en':\n",
    "            continue\n",
    "\n",
    "        doc = nlp(data['maintext'])\n",
    "        # remove punctuation, stop words and any additional complex punctuation characters\n",
    "        tokens = [token.text for token in doc if token.text not in '\\n\\n \\n\\n\\n\\t\\n ']\n",
    "        cleaned_text = ' '.join(tokens)\n",
    "        # initial cleanup of the article\n",
    "        news_content.append(cleaned_text)\n"
   ]
  },
  {
   "cell_type": "code",
   "execution_count": 23,
   "metadata": {},
   "outputs": [
    {
     "data": {
      "text/plain": [
       "A securities attorney in New York was arrested and charged with engaging in a fraudulent scheme through which he obtained and then illegally sold unregistered restricted securities issued in “PIPEs” (private investments in public equity).\n",
       "According to a complaint filed by the U.S. attorney for the Southern District of New York, Louis W. Zehil, 41, allegedly sold the unregistered, restricted shares under the false pretense that they were registered and freely tradable, personally reaping illicit profits of more than approximately $17.8 million.\n",
       "Zehil allegedly directed funds to his personal bank account and also to buy real estate, jewelry, a country club membership and use of an interior decorator for a home he owns.\n",
       "According to the complaint, Zehil, a corporate attorney, and two entities he controlled, Strong and Chestnut, engaged in a fraudulent scheme to obtain and sell to the investing public millions of shares of securities in violation of the antifraud and registration provisions of the federal securities laws.\n",
       "Between January 2006 and February 2007, Zehil represented seven public companies in issuing their stock in PIPE transactions. The companies, all of which trade on the over-the-counter bulletin board, were Gran Tierra Energy , Foothills Resources , MMC Energy , Alternative Energy Sources , Ethanex Energy , GoFish and Kreido BioFuels .\n",
       "In these PIPE transactions, Zehil was able to purchase the restricted stock at a discount to market price.\n",
       "According to the complaint, Zehil, a New York-based partner with the McGuireWoods law firm until he resigned on Feb. 16, specialized in representing small companies seeking to become public through reverse mergers and obtaining new capital through private placements of stock.\n",
       "In order to generate financing for the newly merged public company, Zehil assisted these companies in offering securities in transactions near the time of their reverse mergers. In such PIPE transactions, investors commonly commit to purchase a certain number of restricted shares from an issuer at a specified price at a discount to the market price (or expected market price after the reverse merger). In turn, the issuer agrees to file a resale registration statement at a later date so that the investors can sell their shares in the public market.\n",
       "According to the complaint, however, in this case the securities owned by Zehil were not yet registered with the Securities and Exchange Commission (SEC).\n",
       "Zehil personally invested in each of the companies through two entities, Chestnut Capital Partners II and Strong Branch Ventures IV, both Delaware limited partnerships. According to the complaint, Chestnut and Strong are both located at Zehil's Ponte Vedra Beach, Fla., home. Chestnut has only two shareholders: Zehil and his wife, the complaints says, while Strong's only general partner was Zehil and its only limited partner was his wife.\n",
       "As counsel for the issuers of the unregistered securities, Zehil sent opinion letters to the issuers' stock transfer agents directing that all of the issued shares should bear restrictive legends except the shares issued to Chestnut Capital Partners II and Strong Branch Ventures.\n",
       "Zehil's letters falsely claimed that the shares issued to Strong and Chestnut satisfied legal criteria permitting them to be issued without a restrictive legend. As a result, Zehil was able to receive shares without restrictive legends and, almost immediately thereafter, he sold them in the public market at a profit in advance of the other PIPE investors. In all cases, he did this before the issuers had filed registration statements with the SEC.\n",
       "Interestingly, it was not the SEC or the U.S. attorney's office that uncovered the alleged wrongdoing. Credit goes to an associate attorney at McGuireWoods who reported it to the firm's management. McGuireWoods management then confronted Zehil, who admitted to three of the firm's partners that he intentionally issued false opinions to the transfer agents exempting Strong and Chestnut from the restrictive legend requirement.\n",
       "Zehil had circumvented the firm's policy, which requires all opinion letters be reviewed by at least one other partner. McGuireWoods then brought the alleged wrongdoing to the attention of the SEC and is now cooperating with the government investigations.\n",
       "In addition to the illicit profits, Zehil also received nearly 1.5 million shares of GoFish and 1.4 million shares of Kreido, which remain unsold.\n",
       "If convicted, Zehil faces a maximum sentence of 20 years in prison and a fine that would be the largest of $5 million, twice the gross gain from the offense, or twice the gross loss to the victims.\n",
       "Andrew M. Lawler, a New York-based white-collar criminal defense attorney who is representing Zehil, declined to comment."
      ]
     },
     "execution_count": 23,
     "metadata": {},
     "output_type": "execute_result"
    }
   ],
   "source": [
    "news_content[0]"
   ]
  },
  {
   "cell_type": "code",
   "execution_count": 24,
   "metadata": {},
   "outputs": [
    {
     "ename": "TypeError",
     "evalue": "Object of type Doc is not JSON serializable",
     "output_type": "error",
     "traceback": [
      "\u001b[1;31m---------------------------------------------------------------------------\u001b[0m",
      "\u001b[1;31mTypeError\u001b[0m                                 Traceback (most recent call last)",
      "Cell \u001b[1;32mIn[24], line 5\u001b[0m\n\u001b[0;32m      3\u001b[0m \u001b[38;5;66;03m# Write the list to the file as JSON so that I don't have to process it multiple times\u001b[39;00m\n\u001b[0;32m      4\u001b[0m \u001b[38;5;28;01mwith\u001b[39;00m \u001b[38;5;28mopen\u001b[39m(output_filename, \u001b[38;5;124m'\u001b[39m\u001b[38;5;124mw\u001b[39m\u001b[38;5;124m'\u001b[39m, encoding\u001b[38;5;241m=\u001b[39m\u001b[38;5;124m'\u001b[39m\u001b[38;5;124mutf-8\u001b[39m\u001b[38;5;124m'\u001b[39m) \u001b[38;5;28;01mas\u001b[39;00m file:\n\u001b[1;32m----> 5\u001b[0m     \u001b[43mjson\u001b[49m\u001b[38;5;241;43m.\u001b[39;49m\u001b[43mdump\u001b[49m\u001b[43m(\u001b[49m\u001b[43mnews_content\u001b[49m\u001b[43m,\u001b[49m\u001b[43m \u001b[49m\u001b[43mfile\u001b[49m\u001b[43m,\u001b[49m\u001b[43m \u001b[49m\u001b[43mindent\u001b[49m\u001b[38;5;241;43m=\u001b[39;49m\u001b[38;5;241;43m4\u001b[39;49m\u001b[43m)\u001b[49m\n",
      "File \u001b[1;32mc:\\Program Files\\Python310\\lib\\json\\__init__.py:179\u001b[0m, in \u001b[0;36mdump\u001b[1;34m(obj, fp, skipkeys, ensure_ascii, check_circular, allow_nan, cls, indent, separators, default, sort_keys, **kw)\u001b[0m\n\u001b[0;32m    173\u001b[0m     iterable \u001b[39m=\u001b[39m \u001b[39mcls\u001b[39m(skipkeys\u001b[39m=\u001b[39mskipkeys, ensure_ascii\u001b[39m=\u001b[39mensure_ascii,\n\u001b[0;32m    174\u001b[0m         check_circular\u001b[39m=\u001b[39mcheck_circular, allow_nan\u001b[39m=\u001b[39mallow_nan, indent\u001b[39m=\u001b[39mindent,\n\u001b[0;32m    175\u001b[0m         separators\u001b[39m=\u001b[39mseparators,\n\u001b[0;32m    176\u001b[0m         default\u001b[39m=\u001b[39mdefault, sort_keys\u001b[39m=\u001b[39msort_keys, \u001b[39m*\u001b[39m\u001b[39m*\u001b[39mkw)\u001b[39m.\u001b[39miterencode(obj)\n\u001b[0;32m    177\u001b[0m \u001b[39m# could accelerate with writelines in some versions of Python, at\u001b[39;00m\n\u001b[0;32m    178\u001b[0m \u001b[39m# a debuggability cost\u001b[39;00m\n\u001b[1;32m--> 179\u001b[0m \u001b[39mfor\u001b[39;00m chunk \u001b[39min\u001b[39;00m iterable:\n\u001b[0;32m    180\u001b[0m     fp\u001b[39m.\u001b[39mwrite(chunk)\n",
      "File \u001b[1;32mc:\\Program Files\\Python310\\lib\\json\\encoder.py:429\u001b[0m, in \u001b[0;36m_make_iterencode.<locals>._iterencode\u001b[1;34m(o, _current_indent_level)\u001b[0m\n\u001b[0;32m    427\u001b[0m     \u001b[39myield\u001b[39;00m _floatstr(o)\n\u001b[0;32m    428\u001b[0m \u001b[39melif\u001b[39;00m \u001b[39misinstance\u001b[39m(o, (\u001b[39mlist\u001b[39m, \u001b[39mtuple\u001b[39m)):\n\u001b[1;32m--> 429\u001b[0m     \u001b[39myield from\u001b[39;00m _iterencode_list(o, _current_indent_level)\n\u001b[0;32m    430\u001b[0m \u001b[39melif\u001b[39;00m \u001b[39misinstance\u001b[39m(o, \u001b[39mdict\u001b[39m):\n\u001b[0;32m    431\u001b[0m     \u001b[39myield from\u001b[39;00m _iterencode_dict(o, _current_indent_level)\n",
      "File \u001b[1;32mc:\\Program Files\\Python310\\lib\\json\\encoder.py:325\u001b[0m, in \u001b[0;36m_make_iterencode.<locals>._iterencode_list\u001b[1;34m(lst, _current_indent_level)\u001b[0m\n\u001b[0;32m    323\u001b[0m         \u001b[39melse\u001b[39;00m:\n\u001b[0;32m    324\u001b[0m             chunks \u001b[39m=\u001b[39m _iterencode(value, _current_indent_level)\n\u001b[1;32m--> 325\u001b[0m         \u001b[39myield from\u001b[39;00m chunks\n\u001b[0;32m    326\u001b[0m \u001b[39mif\u001b[39;00m newline_indent \u001b[39mis\u001b[39;00m \u001b[39mnot\u001b[39;00m \u001b[39mNone\u001b[39;00m:\n\u001b[0;32m    327\u001b[0m     _current_indent_level \u001b[39m-\u001b[39m\u001b[39m=\u001b[39m \u001b[39m1\u001b[39m\n",
      "File \u001b[1;32mc:\\Program Files\\Python310\\lib\\json\\encoder.py:438\u001b[0m, in \u001b[0;36m_make_iterencode.<locals>._iterencode\u001b[1;34m(o, _current_indent_level)\u001b[0m\n\u001b[0;32m    436\u001b[0m         \u001b[39mraise\u001b[39;00m \u001b[39mValueError\u001b[39;00m(\u001b[39m\"\u001b[39m\u001b[39mCircular reference detected\u001b[39m\u001b[39m\"\u001b[39m)\n\u001b[0;32m    437\u001b[0m     markers[markerid] \u001b[39m=\u001b[39m o\n\u001b[1;32m--> 438\u001b[0m o \u001b[39m=\u001b[39m _default(o)\n\u001b[0;32m    439\u001b[0m \u001b[39myield from\u001b[39;00m _iterencode(o, _current_indent_level)\n\u001b[0;32m    440\u001b[0m \u001b[39mif\u001b[39;00m markers \u001b[39mis\u001b[39;00m \u001b[39mnot\u001b[39;00m \u001b[39mNone\u001b[39;00m:\n",
      "File \u001b[1;32mc:\\Program Files\\Python310\\lib\\json\\encoder.py:179\u001b[0m, in \u001b[0;36mJSONEncoder.default\u001b[1;34m(self, o)\u001b[0m\n\u001b[0;32m    160\u001b[0m \u001b[39mdef\u001b[39;00m \u001b[39mdefault\u001b[39m(\u001b[39mself\u001b[39m, o):\n\u001b[0;32m    161\u001b[0m \u001b[39m    \u001b[39m\u001b[39m\"\"\"Implement this method in a subclass such that it returns\u001b[39;00m\n\u001b[0;32m    162\u001b[0m \u001b[39m    a serializable object for ``o``, or calls the base implementation\u001b[39;00m\n\u001b[0;32m    163\u001b[0m \u001b[39m    (to raise a ``TypeError``).\u001b[39;00m\n\u001b[1;32m   (...)\u001b[0m\n\u001b[0;32m    177\u001b[0m \n\u001b[0;32m    178\u001b[0m \u001b[39m    \"\"\"\u001b[39;00m\n\u001b[1;32m--> 179\u001b[0m     \u001b[39mraise\u001b[39;00m \u001b[39mTypeError\u001b[39;00m(\u001b[39mf\u001b[39m\u001b[39m'\u001b[39m\u001b[39mObject of type \u001b[39m\u001b[39m{\u001b[39;00mo\u001b[39m.\u001b[39m\u001b[39m__class__\u001b[39m\u001b[39m.\u001b[39m\u001b[39m__name__\u001b[39m\u001b[39m}\u001b[39;00m\u001b[39m \u001b[39m\u001b[39m'\u001b[39m\n\u001b[0;32m    180\u001b[0m                     \u001b[39mf\u001b[39m\u001b[39m'\u001b[39m\u001b[39mis not JSON serializable\u001b[39m\u001b[39m'\u001b[39m)\n",
      "\u001b[1;31mTypeError\u001b[0m: Object of type Doc is not JSON serializable"
     ]
    }
   ],
   "source": [
    "output_filename = \"article_content.json\"\n",
    "\n",
    "# Write the list to the file as JSON so that I don't have to process it multiple times\n",
    "with open(output_filename, 'w', encoding='utf-8') as file:\n",
    "    json.dump(news_content, file, indent=4)"
   ]
  }
 ],
 "metadata": {
  "kernelspec": {
   "display_name": "Python 3.10.5 64-bit",
   "language": "python",
   "name": "python3"
  },
  "language_info": {
   "codemirror_mode": {
    "name": "ipython",
    "version": 3
   },
   "file_extension": ".py",
   "mimetype": "text/x-python",
   "name": "python",
   "nbconvert_exporter": "python",
   "pygments_lexer": "ipython3",
   "version": "3.10.5"
  },
  "vscode": {
   "interpreter": {
    "hash": "26de051ba29f2982a8de78e945f0abaf191376122a1563185a90213a26c5da77"
   }
  }
 },
 "nbformat": 4,
 "nbformat_minor": 2
}
