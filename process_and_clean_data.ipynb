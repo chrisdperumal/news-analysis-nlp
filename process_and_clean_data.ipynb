{
 "cells": [
  {
   "cell_type": "code",
   "execution_count": 76,
   "metadata": {},
   "outputs": [],
   "source": [
    "import os\n",
    "from pathlib import Path\n",
    "import json\n",
    "import spacy"
   ]
  },
  {
   "cell_type": "code",
   "execution_count": 77,
   "metadata": {},
   "outputs": [],
   "source": [
    "nlp = spacy.load(\"en_core_web_lg\")"
   ]
  },
  {
   "cell_type": "code",
   "execution_count": 78,
   "metadata": {},
   "outputs": [],
   "source": [
    "# process news articles retreived from the crawler\n",
    "news_directory = '/Users/chrisperumal/news-please-repo/data/2024/04/17'\n",
    "news_content = []\n",
    "\n",
    "news_sources = os.listdir(news_directory)\n",
    "\n",
    "for source in news_sources:\n",
    "    news_path = Path(news_directory + '/' + source)\n",
    "    json_content = [f for f in news_path.glob('*.json') if f.is_file()]\n",
    "\n",
    "    for json_path in json_content:\n",
    "        with open(json_path, 'r') as f:\n",
    "            data = json.load(f)\n",
    "\n",
    "        # if the news article didn't have any text data\n",
    "        if data['maintext'] is None or data['language'] != 'en':\n",
    "            continue\n",
    "\n",
    "        doc = nlp(data['maintext'])\n",
    "        # remove punctuation, stop words and any additional complex punctuation characters\n",
    "        tokens = [token.text.lower() for token in doc if not token.is_stop and not token.is_punct and token.text not in '\\n\\n \\n\\n\\n!\"-#$%&()--.*+,-/:;<=>?@[\\\\]^_`{|}~\\t\\n ']\n",
    "        cleaned_text = ' '.join(tokens)\n",
    "        # initial cleanup of the article\n",
    "        news_content.append(cleaned_text)\n"
   ]
  },
  {
   "cell_type": "code",
   "execution_count": 79,
   "metadata": {},
   "outputs": [
    {
     "data": {
      "text/plain": [
       "'showtime 9 pm itv1 basically happened got pissed got relentless ended buying horse delightfully daft story group ordinary blokes darlington clubbed buy showtime mahomes £ 8,000 dark horse remarkably went beat favourites win york races 2022 getting know men prepare find real joy hollie richardson love dogs alison hammond 8 pm itv1 paul o’grady left big shoes fill alison hammond emerging queen tv confident choice try episode bottle feeds day old puppy falls nelly spaniel rare eye condition o’grady probably hr changing ends 8.30pm itv1 double entendre laden comedy telling story comedian alan carr early life northampton itvx year makes terrestrial son fourth division football manager likely fraught journey young alan oliver savell brilliantly unapologetic parents charmingly supportive phil harrison michael palin nigeria 9 pm channel 5 view image fullscreen bustling city michael palin balogan market lagos photograph itn channel 5 tireless adventurer palin begins new parter nigeria biggest bustling city lagos delights school kids geography lesson sombrely reckoning uk legacy colonialism slavery flight north kano 80 year old python meets baby crocodile graeme virtue danny dyer man 10 pm channel 4 war masculinity asks danny dyer fuck knows actor open curious travels uk find nuanced documentary point says people screaming telly reserves judgment meets misogynist tiktok influencer hr imagine pet shop boys 10.40pm bbc uk successful pop duo making music 40 years new album emerges decades west end girls went 1 neil tennant chris lowe let cameras peek recording process considerable logistics accompanying global tour pair tart wit left field imagination abide jack seale film choice dirty god sacha polak 2019 11.15pm bbc view image fullscreen scarred lives katherine kelly vicky knight dirty god photograph tcd prod db alamy silver haze director sacha polak actor vicky knight collaboration moving 2019 film knight plays single mother jade extensive scarring acid attack ex boyfriend tries resume normal life young daughter mum lisa katherine kelly best friend shami rebecca stone struggles adjust new physical reality leads dark paths drama brutal candour newcomer knight gives simon wardell'"
      ]
     },
     "execution_count": 79,
     "metadata": {},
     "output_type": "execute_result"
    }
   ],
   "source": [
    "news_content[0]"
   ]
  },
  {
   "cell_type": "code",
   "execution_count": 80,
   "metadata": {},
   "outputs": [],
   "source": [
    "output_filename = \"cleaned_content.json\"\n",
    "\n",
    "# Write the list to the file as JSON so that I don't have to process it multiple times\n",
    "with open(output_filename, 'w') as file:\n",
    "    json.dump(news_content, file, indent=4)"
   ]
  }
 ],
 "metadata": {
  "kernelspec": {
   "display_name": ".venv",
   "language": "python",
   "name": "python3"
  },
  "language_info": {
   "codemirror_mode": {
    "name": "ipython",
    "version": 3
   },
   "file_extension": ".py",
   "mimetype": "text/x-python",
   "name": "python",
   "nbconvert_exporter": "python",
   "pygments_lexer": "ipython3",
   "version": "3.12.0"
  }
 },
 "nbformat": 4,
 "nbformat_minor": 2
}
