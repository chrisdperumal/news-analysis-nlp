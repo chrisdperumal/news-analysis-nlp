{
 "cells": [
  {
   "cell_type": "code",
   "execution_count": 1,
   "metadata": {},
   "outputs": [],
   "source": [
    "import os\n",
    "import pandas as pd\n",
    "from newsplease import NewsPlease"
   ]
  },
  {
   "cell_type": "code",
   "execution_count": 2,
   "metadata": {},
   "outputs": [],
   "source": [
    "file_path = './News_Category_Dataset_v3.json'\n",
    "df = pd.read_json(file_path, lines=True)"
   ]
  },
  {
   "cell_type": "code",
   "execution_count": 11,
   "metadata": {},
   "outputs": [],
   "source": [
    "top_100 = df[:100]\n",
    "links = top_100['link']\n",
    "content = NewsPlease.from_urls(links, timeout=6)\n",
    "    "
   ]
  },
  {
   "cell_type": "code",
   "execution_count": 12,
   "metadata": {},
   "outputs": [],
   "source": [
    "# process the kaggle news by combining title and description. "
   ]
  },
  {
   "cell_type": "code",
   "execution_count": 17,
   "metadata": {},
   "outputs": [
    {
     "data": {
      "text/plain": [
       "{'authors': ['Trends Reporter'],\n",
       " 'date_download': datetime.datetime(2024, 4, 23, 21, 57, 52),\n",
       " 'date_modify': None,\n",
       " 'date_publish': datetime.datetime(2022, 9, 15, 17, 31, 6),\n",
       " 'description': \"Mykel Gordon rushed to the woman's aid and held down her assailant until police arrived. Remarkably, this wasn't the first time Gordon may have saved a life.\",\n",
       " 'filename': 'https%3A%2F%2Fwww.huffpost.com%2Fentry%2Fchick-fil-a-worker-florida-carjacking_n_63232e7ee4b0ed021dfa4d15.json',\n",
       " 'image_url': 'https://img.huffingtonpost.com/asset/632334f61f00001a003bf50f.jpg?cache=Wa1ucwxBrq&ops=1200_630',\n",
       " 'language': 'en',\n",
       " 'localpath': None,\n",
       " 'maintext': \"At HuffPost, we believe that everyone needs high-quality journalism, but we understand that not everyone can afford to pay for expensive news subscriptions. That is why we are committed to providing deeply reported, carefully fact-checked news that is freely accessible to everyone.\\nWhether you come to HuffPost for updates on the 2024 presidential race, hard-hitting investigations into critical issues facing our country today, or trending stories that make you laugh, we appreciate you. The truth is, news costs money to produce, and we are proud that we have never put our stories behind an expensive paywall.\\nWould you join us to help keep our stories free for all? Your contribution of as little as $2 will go a long way.\\nCan't afford to donate? Support HuffPost by creating a free account and log in while you read.\",\n",
       " 'source_domain': 'www.huffpost.com',\n",
       " 'text': None,\n",
       " 'title': 'Chick-Fil-A Worker Saves Woman With Baby From Being Carjacked',\n",
       " 'title_page': None,\n",
       " 'title_rss': None,\n",
       " 'url': 'https://www.huffpost.com/entry/chick-fil-a-worker-florida-carjacking_n_63232e7ee4b0ed021dfa4d15'}"
      ]
     },
     "execution_count": 17,
     "metadata": {},
     "output_type": "execute_result"
    }
   ],
   "source": []
  },
  {
   "cell_type": "code",
   "execution_count": null,
   "metadata": {},
   "outputs": [],
   "source": [
    "content_df.to_json('news_category_dataset_content.json', orient='records', lines=True)"
   ]
  }
 ],
 "metadata": {
  "kernelspec": {
   "display_name": "Python 3.10.5 64-bit",
   "language": "python",
   "name": "python3"
  },
  "language_info": {
   "codemirror_mode": {
    "name": "ipython",
    "version": 3
   },
   "file_extension": ".py",
   "mimetype": "text/x-python",
   "name": "python",
   "nbconvert_exporter": "python",
   "pygments_lexer": "ipython3",
   "version": "3.12.0"
  },
  "orig_nbformat": 4,
  "vscode": {
   "interpreter": {
    "hash": "26de051ba29f2982a8de78e945f0abaf191376122a1563185a90213a26c5da77"
   }
  }
 },
 "nbformat": 4,
 "nbformat_minor": 2
}
