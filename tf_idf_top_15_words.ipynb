{
 "cells": [
  {
   "cell_type": "code",
   "execution_count": 28,
   "metadata": {},
   "outputs": [],
   "source": [
    "import os\n",
    "from pathlib import Path\n",
    "import json\n",
    "import spacy\n",
    "import pandas as pd\n",
    "from spacy_download import load_spacy\n",
    "from sklearn.feature_extraction.text import TfidfVectorizer\n",
    "\n",
    "\n",
    "# Will download the model if it isn't installed yet\n",
    "nlp = load_spacy(\"en_core_web_lg\")  "
   ]
  },
  {
   "cell_type": "code",
   "execution_count": 29,
   "metadata": {},
   "outputs": [
    {
     "data": {
      "text/html": [
       "<div>\n",
       "<style scoped>\n",
       "    .dataframe tbody tr th:only-of-type {\n",
       "        vertical-align: middle;\n",
       "    }\n",
       "\n",
       "    .dataframe tbody tr th {\n",
       "        vertical-align: top;\n",
       "    }\n",
       "\n",
       "    .dataframe thead th {\n",
       "        text-align: right;\n",
       "    }\n",
       "</style>\n",
       "<table border=\"1\" class=\"dataframe\">\n",
       "  <thead>\n",
       "    <tr style=\"text-align: right;\">\n",
       "      <th></th>\n",
       "      <th>link</th>\n",
       "      <th>headline</th>\n",
       "      <th>category</th>\n",
       "      <th>short_description</th>\n",
       "      <th>authors</th>\n",
       "      <th>date</th>\n",
       "      <th>cleaned_text</th>\n",
       "      <th>text</th>\n",
       "    </tr>\n",
       "  </thead>\n",
       "  <tbody>\n",
       "    <tr>\n",
       "      <th>0</th>\n",
       "      <td>https://www.huffpost.com/entry/covid-boosters-...</td>\n",
       "      <td>Over 4 Million Americans Roll Up Sleeves For O...</td>\n",
       "      <td>U.S. NEWS</td>\n",
       "      <td>Health experts said it is too early to predict...</td>\n",
       "      <td>Carla K. Johnson, AP</td>\n",
       "      <td>2022-09-23</td>\n",
       "      <td>4 million Americans roll sleeve Omicron target...</td>\n",
       "      <td>Over 4 Million Americans Roll Up Sleeves For O...</td>\n",
       "    </tr>\n",
       "    <tr>\n",
       "      <th>1</th>\n",
       "      <td>https://www.huffpost.com/entry/american-airlin...</td>\n",
       "      <td>American Airlines Flyer Charged, Banned For Li...</td>\n",
       "      <td>U.S. NEWS</td>\n",
       "      <td>He was subdued by passengers and crew when he ...</td>\n",
       "      <td>Mary Papenfuss</td>\n",
       "      <td>2022-09-23</td>\n",
       "      <td>American Airlines Flyer charge ban life Punchi...</td>\n",
       "      <td>American Airlines Flyer Charged, Banned For Li...</td>\n",
       "    </tr>\n",
       "    <tr>\n",
       "      <th>2</th>\n",
       "      <td>https://www.huffpost.com/entry/funniest-tweets...</td>\n",
       "      <td>23 Of The Funniest Tweets About Cats And Dogs ...</td>\n",
       "      <td>COMEDY</td>\n",
       "      <td>\"Until you have a dog you don't understand wha...</td>\n",
       "      <td>Elyse Wanshel</td>\n",
       "      <td>2022-09-23</td>\n",
       "      <td>23 Funniest tweet Cats Dogs Week Sept. 17 23 d...</td>\n",
       "      <td>23 Of The Funniest Tweets About Cats And Dogs ...</td>\n",
       "    </tr>\n",
       "    <tr>\n",
       "      <th>3</th>\n",
       "      <td>https://www.huffpost.com/entry/funniest-parent...</td>\n",
       "      <td>The Funniest Tweets From Parents This Week (Se...</td>\n",
       "      <td>PARENTING</td>\n",
       "      <td>\"Accidentally put grown-up toothpaste on my to...</td>\n",
       "      <td>Caroline Bologna</td>\n",
       "      <td>2022-09-23</td>\n",
       "      <td>Funniest Tweets parent Week Sept. 17 23 accide...</td>\n",
       "      <td>The Funniest Tweets From Parents This Week (Se...</td>\n",
       "    </tr>\n",
       "    <tr>\n",
       "      <th>4</th>\n",
       "      <td>https://www.huffpost.com/entry/amy-cooper-lose...</td>\n",
       "      <td>Woman Who Called Cops On Black Bird-Watcher Lo...</td>\n",
       "      <td>U.S. NEWS</td>\n",
       "      <td>Amy Cooper accused investment firm Franklin Te...</td>\n",
       "      <td>Nina Golgowski</td>\n",
       "      <td>2022-09-22</td>\n",
       "      <td>woman call cop Black Bird Watcher lose Lawsuit...</td>\n",
       "      <td>Woman Who Called Cops On Black Bird-Watcher Lo...</td>\n",
       "    </tr>\n",
       "  </tbody>\n",
       "</table>\n",
       "</div>"
      ],
      "text/plain": [
       "                                                link  \\\n",
       "0  https://www.huffpost.com/entry/covid-boosters-...   \n",
       "1  https://www.huffpost.com/entry/american-airlin...   \n",
       "2  https://www.huffpost.com/entry/funniest-tweets...   \n",
       "3  https://www.huffpost.com/entry/funniest-parent...   \n",
       "4  https://www.huffpost.com/entry/amy-cooper-lose...   \n",
       "\n",
       "                                            headline   category  \\\n",
       "0  Over 4 Million Americans Roll Up Sleeves For O...  U.S. NEWS   \n",
       "1  American Airlines Flyer Charged, Banned For Li...  U.S. NEWS   \n",
       "2  23 Of The Funniest Tweets About Cats And Dogs ...     COMEDY   \n",
       "3  The Funniest Tweets From Parents This Week (Se...  PARENTING   \n",
       "4  Woman Who Called Cops On Black Bird-Watcher Lo...  U.S. NEWS   \n",
       "\n",
       "                                   short_description               authors  \\\n",
       "0  Health experts said it is too early to predict...  Carla K. Johnson, AP   \n",
       "1  He was subdued by passengers and crew when he ...        Mary Papenfuss   \n",
       "2  \"Until you have a dog you don't understand wha...         Elyse Wanshel   \n",
       "3  \"Accidentally put grown-up toothpaste on my to...      Caroline Bologna   \n",
       "4  Amy Cooper accused investment firm Franklin Te...        Nina Golgowski   \n",
       "\n",
       "        date                                       cleaned_text  \\\n",
       "0 2022-09-23  4 million Americans roll sleeve Omicron target...   \n",
       "1 2022-09-23  American Airlines Flyer charge ban life Punchi...   \n",
       "2 2022-09-23  23 Funniest tweet Cats Dogs Week Sept. 17 23 d...   \n",
       "3 2022-09-23  Funniest Tweets parent Week Sept. 17 23 accide...   \n",
       "4 2022-09-22  woman call cop Black Bird Watcher lose Lawsuit...   \n",
       "\n",
       "                                                text  \n",
       "0  Over 4 Million Americans Roll Up Sleeves For O...  \n",
       "1  American Airlines Flyer Charged, Banned For Li...  \n",
       "2  23 Of The Funniest Tweets About Cats And Dogs ...  \n",
       "3  The Funniest Tweets From Parents This Week (Se...  \n",
       "4  Woman Who Called Cops On Black Bird-Watcher Lo...  "
      ]
     },
     "execution_count": 29,
     "metadata": {},
     "output_type": "execute_result"
    }
   ],
   "source": [
    "df = pd.read_json('./cleaned_kaggle_data.json', encoding='utf-8', lines=True)\n",
    "df.head()"
   ]
  },
  {
   "cell_type": "code",
   "execution_count": 30,
   "metadata": {},
   "outputs": [
    {
     "name": "stdout",
     "output_type": "stream",
     "text": [
      "['ARTS & CULTURE', 'BLACK VOICES', 'BUSINESS', 'COLLEGE', 'COMEDY', 'CRIME', 'DIVORCE', 'EDUCATION', 'ENTERTAINMENT', 'ENVIRONMENT', 'FIFTY', 'FOOD & DRINK', 'GOOD NEWS', 'GREEN', 'HEALTHY LIVING', 'HOME & LIVING', 'IMPACT', 'LATINO VOICES', 'MEDIA', 'MONEY', 'PARENTING', 'PARENTS', 'POLITICS', 'QUEER VOICES', 'RELIGION', 'SCIENCE', 'SPORTS', 'STYLE & BEAUTY', 'TASTE', 'TECH', 'TRAVEL', 'U.S. NEWS', 'WEDDINGS', 'WEIRD NEWS', 'WELLNESS', 'WOMEN', 'WORLD NEWS', 'WORLDPOST']\n"
     ]
    }
   ],
   "source": [
    "categories = df.groupby('category')\n",
    "group_names = list(categories.groups.keys())\n",
    "print(group_names)"
   ]
  },
  {
   "cell_type": "code",
   "execution_count": null,
   "metadata": {},
   "outputs": [],
   "source": [
    "vectorizer = TfidfVectorizer()"
   ]
  },
  {
   "cell_type": "code",
   "execution_count": 31,
   "metadata": {},
   "outputs": [
    {
     "name": "stderr",
     "output_type": "stream",
     "text": [
      "/var/folders/v6/k6ypqqsj3p51cml4sqs8z0dc0000gn/T/ipykernel_5294/3351905378.py:3: SettingWithCopyWarning: \n",
      "A value is trying to be set on a copy of a slice from a DataFrame.\n",
      "Try using .loc[row_indexer,col_indexer] = value instead\n",
      "\n",
      "See the caveats in the documentation: https://pandas.pydata.org/pandas-docs/stable/user_guide/indexing.html#returning-a-view-versus-a-copy\n",
      "  category_df['text'] = [\" \".join([token.text.lower() for token in nlp(doc) if not token.is_stop and not token.is_punct]) for doc in category_df['text'].values]\n"
     ]
    },
    {
     "name": "stdout",
     "output_type": "stream",
     "text": [
      "['new documentary captures complexity child immigrants mija director isabel castro combined music documentaries style euphoria clueless tell nuanced immigration story'\n",
      " 'reboot clever navel gazey look inside tv reboots starring keegan michael key judy greer johnny knoxville hulu follows revival fictional early 2000s sitcom'\n",
      " 'meet alex aster tiktoker changing publishing industry better colombian american author new book lightlark rejected numerous times went directly readers support'\n",
      " ...\n",
      " 'think look chemical brothers concert film set hit theaters amid cheers occasional theater speakers duo danced songs eventually'\n",
      " 'matthew marks discusses new la gallery obvious choice recruit ellsworth kelly inaugural exhibition 15th solo matthew'\n",
      " 'allard van hoorn urban songline explores relationship sound space materials photos video recent exhibition storefront art architecture shifting connection song space nomadic']\n",
      "['mariah carey brings big big energy latto 2022 bet awards performance queen christmas joined queen da souf stage year award ceremony'\n",
      " 'diddy honored lifetime achievement star studded tribute 2022 bet awards music mogul presented highest honor night iconic performance included jodeci mary j. blige lil kim'\n",
      " 'bet awards 2022 red carpet best looks culture biggest night drip drown motto red carpet favorite black celebrities dressed nines'\n",
      " ...\n",
      " 'max hardy amare stoudemire personal chef sunday dinner michael magic personal chefs lined hardy determination lived landing'\n",
      " 'darkness ai cool dark sucks want live spiritual darkness want live proverbial fear feeling way life trying stumble fall'\n",
      " 'martin luther vote barack obama luther living today opportunity vote believe wholeheartedly political views president barack obama resonate vision universal needs']\n",
      "['rei workers berkeley store vote unionize win labor follow footsteps rei workers new york city formed union earlier year'\n",
      " 'twitter lawyer calls elon musk committed enemy judge sets october trial delaware chancery judge kathaleen mccormick dealt world richest person setback ordering speedy trial abandoned deal buy twitter'\n",
      " 'starbucks leaving russian market shutting 130 stores starbucks follows mcdonald exit russian market week'\n",
      " ...\n",
      " 'walmart waving goodbye greeters 30 years people greeters longer welcome walmart customers cart smile months walmart'\n",
      " 'world economic forum fear global contagion dominates decades crises assailed developing countries indonesia argentina powers united states'\n",
      " 'positive customer experience return investment analysts adobe combined historical purchase upgrade data survey data found customers highest']\n",
      "['cornell frat pig roast gave points sex heaviest woman zeta beta tau slapped probation'\n",
      " 'norm pattiz accused sexual harassment resign uc regent media executive submitted resignation letter mention allegations'\n",
      " 'radio mogul pressure resign powerful california university board women accused norman pattiz sexual harassment'\n",
      " ...\n",
      " 'bowdoin double bogey american higher education today angry driver lost confused proud stop ask directions lost know exactly going prove angry driver speeds zips past exit'\n",
      " 'rejected dream school end world' 'way research project stripper']\n",
      "['23 funniest tweets cats dogs week sept. 17 23 dog understand eaten'\n",
      " '23 funniest tweets cats dogs week july 16 22 bring ur pet mirror ur like'\n",
      " '20 funniest tweets cats dogs week june 18 24 petition stop ringing doorbell tv dog lead confusing life'\n",
      " ...\n",
      " 'daily correspondent clip week al madrigal biggest mitt romney fan video like time monday rolls jonesing pretty hard daily fix having gone'\n",
      " 'mitt romney madness florida edition video apparent madness gripped mitt romney new hampshire south carolina followed massachusetts'\n",
      " \"7 amazing generators photos let honest names pretty boring glenn close john mayer barack obama c'm better\"]\n"
     ]
    }
   ],
   "source": [
    "for group in group_names:\n",
    "    category_df = df[df['category'] == group]\n",
    "    category_df['text'] = [\" \".join([token.text.lower() for token in nlp(doc) if not token.is_stop and not token.is_punct]) for doc in category_df['text'].values]\n",
    "    print(category_df['text'].values)\n",
    "\n",
    "    tfidf_matrix = vectorizer.fit_transform(category_df['text'].values)\n",
    "    feature_names = vectorizer.get_feature_names_out()\n",
    "\n",
    "    sums = tfidf_matrix.sum(axis=0)\n",
    "\n",
    "    # Connecting term to its sums frequency\n",
    "    data = []\n",
    "    for col, term in enumerate(feature_names):\n",
    "        data.append((term, sums[0, col]))\n",
    "\n",
    "    ranking = sorted(data, key=lambda x: x[1], reverse=True)\n",
    "    top_15_words = ranking[:15]\n",
    "\n",
    "    print(f'Top 15 words by TF-IDF for category {group}:')\n",
    "    for word, score in top_15_words:\n",
    "        print(f\"{word}: {score:.4f}\")\n",
    "\n"
   ]
  }
 ],
 "metadata": {
  "kernelspec": {
   "display_name": ".venv",
   "language": "python",
   "name": "python3"
  },
  "language_info": {
   "codemirror_mode": {
    "name": "ipython",
    "version": 3
   },
   "file_extension": ".py",
   "mimetype": "text/x-python",
   "name": "python",
   "nbconvert_exporter": "python",
   "pygments_lexer": "ipython3",
   "version": "3.12.0"
  }
 },
 "nbformat": 4,
 "nbformat_minor": 2
}
