{
 "cells": [
  {
   "cell_type": "code",
   "execution_count": 1,
   "metadata": {},
   "outputs": [],
   "source": [
    "import os\n",
    "import json\n",
    "import spacy\n",
    "from sklearn.feature_extraction.text import TfidfVectorizer\n",
    "from sklearn.decomposition import LatentDirichletAllocation\n",
    "from sklearn.pipeline import Pipeline"
   ]
  },
  {
   "cell_type": "code",
   "execution_count": 2,
   "metadata": {},
   "outputs": [],
   "source": [
    "filename = \"./article_content.json\"\n",
    "with open(filename, 'r') as file:\n",
    "    data = json.load(file)"
   ]
  },
  {
   "cell_type": "code",
   "execution_count": 3,
   "metadata": {},
   "outputs": [],
   "source": [
    "# all the news articles are now stored in data\n",
    "lda_pipeline = Pipeline([('tfidf', TfidfVectorizer(max_df = 0.95, min_df = 2, stop_words='english')),('lda', LatentDirichletAllocation(n_components=38,random_state=42, n_jobs=2)),])"
   ]
  },
  {
   "cell_type": "code",
   "execution_count": 4,
   "metadata": {},
   "outputs": [
    {
     "data": {
      "text/html": [
       "<style>#sk-container-id-1 {color: black;background-color: white;}#sk-container-id-1 pre{padding: 0;}#sk-container-id-1 div.sk-toggleable {background-color: white;}#sk-container-id-1 label.sk-toggleable__label {cursor: pointer;display: block;width: 100%;margin-bottom: 0;padding: 0.3em;box-sizing: border-box;text-align: center;}#sk-container-id-1 label.sk-toggleable__label-arrow:before {content: \"▸\";float: left;margin-right: 0.25em;color: #696969;}#sk-container-id-1 label.sk-toggleable__label-arrow:hover:before {color: black;}#sk-container-id-1 div.sk-estimator:hover label.sk-toggleable__label-arrow:before {color: black;}#sk-container-id-1 div.sk-toggleable__content {max-height: 0;max-width: 0;overflow: hidden;text-align: left;background-color: #f0f8ff;}#sk-container-id-1 div.sk-toggleable__content pre {margin: 0.2em;color: black;border-radius: 0.25em;background-color: #f0f8ff;}#sk-container-id-1 input.sk-toggleable__control:checked~div.sk-toggleable__content {max-height: 200px;max-width: 100%;overflow: auto;}#sk-container-id-1 input.sk-toggleable__control:checked~label.sk-toggleable__label-arrow:before {content: \"▾\";}#sk-container-id-1 div.sk-estimator input.sk-toggleable__control:checked~label.sk-toggleable__label {background-color: #d4ebff;}#sk-container-id-1 div.sk-label input.sk-toggleable__control:checked~label.sk-toggleable__label {background-color: #d4ebff;}#sk-container-id-1 input.sk-hidden--visually {border: 0;clip: rect(1px 1px 1px 1px);clip: rect(1px, 1px, 1px, 1px);height: 1px;margin: -1px;overflow: hidden;padding: 0;position: absolute;width: 1px;}#sk-container-id-1 div.sk-estimator {font-family: monospace;background-color: #f0f8ff;border: 1px dotted black;border-radius: 0.25em;box-sizing: border-box;margin-bottom: 0.5em;}#sk-container-id-1 div.sk-estimator:hover {background-color: #d4ebff;}#sk-container-id-1 div.sk-parallel-item::after {content: \"\";width: 100%;border-bottom: 1px solid gray;flex-grow: 1;}#sk-container-id-1 div.sk-label:hover label.sk-toggleable__label {background-color: #d4ebff;}#sk-container-id-1 div.sk-serial::before {content: \"\";position: absolute;border-left: 1px solid gray;box-sizing: border-box;top: 0;bottom: 0;left: 50%;z-index: 0;}#sk-container-id-1 div.sk-serial {display: flex;flex-direction: column;align-items: center;background-color: white;padding-right: 0.2em;padding-left: 0.2em;position: relative;}#sk-container-id-1 div.sk-item {position: relative;z-index: 1;}#sk-container-id-1 div.sk-parallel {display: flex;align-items: stretch;justify-content: center;background-color: white;position: relative;}#sk-container-id-1 div.sk-item::before, #sk-container-id-1 div.sk-parallel-item::before {content: \"\";position: absolute;border-left: 1px solid gray;box-sizing: border-box;top: 0;bottom: 0;left: 50%;z-index: -1;}#sk-container-id-1 div.sk-parallel-item {display: flex;flex-direction: column;z-index: 1;position: relative;background-color: white;}#sk-container-id-1 div.sk-parallel-item:first-child::after {align-self: flex-end;width: 50%;}#sk-container-id-1 div.sk-parallel-item:last-child::after {align-self: flex-start;width: 50%;}#sk-container-id-1 div.sk-parallel-item:only-child::after {width: 0;}#sk-container-id-1 div.sk-dashed-wrapped {border: 1px dashed gray;margin: 0 0.4em 0.5em 0.4em;box-sizing: border-box;padding-bottom: 0.4em;background-color: white;}#sk-container-id-1 div.sk-label label {font-family: monospace;font-weight: bold;display: inline-block;line-height: 1.2em;}#sk-container-id-1 div.sk-label-container {text-align: center;}#sk-container-id-1 div.sk-container {/* jupyter's `normalize.less` sets `[hidden] { display: none; }` but bootstrap.min.css set `[hidden] { display: none !important; }` so we also need the `!important` here to be able to override the default hidden behavior on the sphinx rendered scikit-learn.org. See: https://github.com/scikit-learn/scikit-learn/issues/21755 */display: inline-block !important;position: relative;}#sk-container-id-1 div.sk-text-repr-fallback {display: none;}</style><div id=\"sk-container-id-1\" class=\"sk-top-container\"><div class=\"sk-text-repr-fallback\"><pre>Pipeline(steps=[(&#x27;tfidf&#x27;,\n",
       "                 TfidfVectorizer(max_df=0.95, min_df=2, stop_words=&#x27;english&#x27;)),\n",
       "                (&#x27;lda&#x27;,\n",
       "                 LatentDirichletAllocation(n_components=38, n_jobs=2,\n",
       "                                           random_state=42))])</pre><b>In a Jupyter environment, please rerun this cell to show the HTML representation or trust the notebook. <br />On GitHub, the HTML representation is unable to render, please try loading this page with nbviewer.org.</b></div><div class=\"sk-container\" hidden><div class=\"sk-item sk-dashed-wrapped\"><div class=\"sk-label-container\"><div class=\"sk-label sk-toggleable\"><input class=\"sk-toggleable__control sk-hidden--visually\" id=\"sk-estimator-id-1\" type=\"checkbox\" ><label for=\"sk-estimator-id-1\" class=\"sk-toggleable__label sk-toggleable__label-arrow\">Pipeline</label><div class=\"sk-toggleable__content\"><pre>Pipeline(steps=[(&#x27;tfidf&#x27;,\n",
       "                 TfidfVectorizer(max_df=0.95, min_df=2, stop_words=&#x27;english&#x27;)),\n",
       "                (&#x27;lda&#x27;,\n",
       "                 LatentDirichletAllocation(n_components=38, n_jobs=2,\n",
       "                                           random_state=42))])</pre></div></div></div><div class=\"sk-serial\"><div class=\"sk-item\"><div class=\"sk-estimator sk-toggleable\"><input class=\"sk-toggleable__control sk-hidden--visually\" id=\"sk-estimator-id-2\" type=\"checkbox\" ><label for=\"sk-estimator-id-2\" class=\"sk-toggleable__label sk-toggleable__label-arrow\">TfidfVectorizer</label><div class=\"sk-toggleable__content\"><pre>TfidfVectorizer(max_df=0.95, min_df=2, stop_words=&#x27;english&#x27;)</pre></div></div></div><div class=\"sk-item\"><div class=\"sk-estimator sk-toggleable\"><input class=\"sk-toggleable__control sk-hidden--visually\" id=\"sk-estimator-id-3\" type=\"checkbox\" ><label for=\"sk-estimator-id-3\" class=\"sk-toggleable__label sk-toggleable__label-arrow\">LatentDirichletAllocation</label><div class=\"sk-toggleable__content\"><pre>LatentDirichletAllocation(n_components=38, n_jobs=2, random_state=42)</pre></div></div></div></div></div></div></div>"
      ],
      "text/plain": [
       "Pipeline(steps=[('tfidf',\n",
       "                 TfidfVectorizer(max_df=0.95, min_df=2, stop_words='english')),\n",
       "                ('lda',\n",
       "                 LatentDirichletAllocation(n_components=38, n_jobs=2,\n",
       "                                           random_state=42))])"
      ]
     },
     "execution_count": 4,
     "metadata": {},
     "output_type": "execute_result"
    }
   ],
   "source": [
    "lda_pipeline.fit(data)"
   ]
  },
  {
   "cell_type": "code",
   "execution_count": 5,
   "metadata": {},
   "outputs": [],
   "source": [
    "tfidf_vectorizer = lda_pipeline.named_steps['tfidf']\n",
    "lda_model = lda_pipeline.named_steps['lda']"
   ]
  },
  {
   "cell_type": "code",
   "execution_count": 6,
   "metadata": {},
   "outputs": [
    {
     "name": "stdout",
     "output_type": "stream",
     "text": [
      "THE TOP 15 WORDS FOR TOPIC #0\n",
      "['rapid', 'flexible', 'labour', 'era', 'fema', 'disasters', 'homeowners', 'garcia', 'journalists', 'bowyer', 'automation', 'tournament', 'fractional', 'australian', 'accident']\n",
      "\n",
      "\n",
      "THE TOP 15 WORDS FOR TOPIC #1\n",
      "['birds', 'dental', 'fdic', 'messi', 'eastern', 'coo', 'melatonin', 'mil', 'moon', 'residents', 'russian', '737', 'russia', 'ukraine', 'overdraft']\n",
      "\n",
      "\n",
      "THE TOP 15 WORDS FOR TOPIC #2\n",
      "['spectator', 'hamdallah', 'ncua', 'pan', 'sauce', 'schwarzman', 'jeep', 'goddard', 'ittihad', 'tas', 'servant', 'waitlist', 'stanley', 'blackstone', 'al']\n",
      "\n",
      "\n",
      "THE TOP 15 WORDS FOR TOPIC #3\n",
      "['cricket', 'servers', 'seconds', 'chinese', 'nasal', 'sprays', 'ashes', 'combs', 'procrastination', 'eclipses', 'solar', 'totality', 'bytedance', 'eclipse', 'tiktok']\n",
      "\n",
      "\n",
      "THE TOP 15 WORDS FOR TOPIC #4\n",
      "['brex', 'braces', 'apy', 'hints', 'grid', 'penalty', 'nyt', 'theme', 'words', 'puzzle', 'hint', 'cds', 'spangram', 'strands', 'cd']\n",
      "\n",
      "\n",
      "THE TOP 15 WORDS FOR TOPIC #5\n",
      "['year', 'rewards', 'rate', 'months', 'national', '000', 'rates', 'israel', 'bank', 'travel', 'cash', 'images', 'account', 'card', 'credit']\n",
      "\n",
      "\n",
      "THE TOP 15 WORDS FOR TOPIC #6\n",
      "['migrants', 'makhachev', 'horn', 'smuggling', 'jim', 'pact', 'guessing', 'immigrants', 'renewable', 'koenig', 'ipl', 'wyoming', 'wordle', 'fractional', 'indonesia']\n",
      "\n",
      "\n",
      "THE TOP 15 WORDS FOR TOPIC #7\n",
      "['ink', 'broker', 'independently', 'roof', 'nft', 'trefis', 'mouse', 'layoff', 'nike', 'ibm', 'localization', 'npr', 'algarve', 'jnj', 'omen']\n",
      "\n",
      "\n",
      "THE TOP 15 WORDS FOR TOPIC #8\n",
      "['unicorn', 'kraneshares', 'coachella', 'functioning', 'councils', 'columbus', 'eldest', 'magnolia', 'bakery', 'magnetic', 'suns', 'caffeine', 'fell', 'greenly', 'rooftop']\n",
      "\n",
      "\n",
      "THE TOP 15 WORDS FOR TOPIC #9\n",
      "['opportunities', 'organizations', 'employees', 'self', 'success', 'development', 'brand', 'culture', 'learning', 'coaches', 'career', 'leaders', 'skills', 'employee', 'leadership']\n",
      "\n",
      "\n",
      "THE TOP 15 WORDS FOR TOPIC #10\n",
      "['dispensaries', 'trucks', 'prize', 'cameron', 'clam', 'denver', 'braces', 'nomad', 'bonuses', 'weed', 'figures', 'ford', 'holm', 'teeth', 'deaf']\n",
      "\n",
      "\n",
      "THE TOP 15 WORDS FOR TOPIC #11\n",
      "['cme', 'clueless', 'chatbots', 'champagne', 'ying', 'adhd', 'djt', 'diversifying', 'yoy', 'pencil', 'lopez', 'passover', 'ritalin', 'ifar', 'tesla']\n",
      "\n",
      "\n",
      "THE TOP 15 WORDS FOR TOPIC #12\n",
      "['brainstorming', 'fed', 'drinking', 'tribes', 'bishop', 'flashes', 'infected', 'tenant', 'freedom', 'mls', 'su', 'flex', 'grief', 'transcription', 'amd']\n",
      "\n",
      "\n",
      "THE TOP 15 WORDS FOR TOPIC #13\n",
      "['memo', 'kingdom', 'angi', 'transmitted', 'sexually', 'dissolution', 'arabia', 'topics', 'depressed', 'gemini', 'ubisoft', 'builder', 'kristin', 'saudi', 'franklin']\n",
      "\n",
      "\n",
      "THE TOP 15 WORDS FOR TOPIC #14\n",
      "['reframing', 'whitfield', 'sanctions', 'escalation', 'drones', 'garland', 'glucose', 'gaethje', 'holloway', 'finland', 'happiness', 'happiest', 'war', 'influencer', 'civil']\n",
      "\n",
      "\n",
      "THE TOP 15 WORDS FOR TOPIC #15\n",
      "['drug', 'basketball', 'reacher', 'vagina', 'discharge', 'bay', 'vaginal', 'shooting', 'church', 'scotts', 'diabetes', 'nba', 'anthony', 'sydney', 'adhd']\n",
      "\n",
      "\n",
      "THE TOP 15 WORDS FOR TOPIC #16\n",
      "['year', 'just', 'health', 'need', 'forbes', 'help', 'work', 'like', 'says', 'said', 'time', 'team', 'people', 'business', 'new']\n",
      "\n",
      "\n",
      "THE TOP 15 WORDS FOR TOPIC #17\n",
      "['bronstein', 'brittany', 'rickey', 'accommodation', 'robinson', 'dodgers', 'therapists', 'zimmerman', 'counseling', 'perry', 'interoperability', 'halving', 'bitcoin', 'jackie', 'therapist']\n",
      "\n",
      "\n",
      "THE TOP 15 WORDS FOR TOPIC #18\n",
      "['painting', 'imessage', 'intermittent', 'netanyahu', 'festival', 'sunbird', 'apnea', 'southwest', 'prisoners', 'theaters', 'fasting', 'colin', 'pluto', 'penelope', 'bridgerton']\n",
      "\n",
      "\n",
      "THE TOP 15 WORDS FOR TOPIC #19\n",
      "['finely', 'smartwatch', 'expedia', 'underwood', 'dylan', 'rai', 'wickets', 'patel', 'pet', 'postal', 'shelters', 'truss', 'cacioppo', 'correspondent', 'vanta']\n",
      "\n",
      "\n",
      "THE TOP 15 WORDS FOR TOPIC #20\n",
      "['recruiter', 'genetic', 'mini', 'estrogen', 'descriptions', 'vessel', 'infectious', 'ssn', 'maximus', 'merchants', 'bears', 'audiobooks', 'pediatric', 'moten', 'fallout']\n",
      "\n",
      "\n",
      "THE TOP 15 WORDS FOR TOPIC #21\n",
      "['petco', 'disorder', 'jimmy', 'se', 'fares', 'pets', 'accidents', 'offerman', 'intel', 'grace', 'jetblue', 'chicago', 'kimmel', 'shanahan', 'depression']\n",
      "\n",
      "\n",
      "THE TOP 15 WORDS FOR TOPIC #22\n",
      "['quarters', 'teachers', 'inactivity', 'enrollment', 'dressing', 'regis', 'staksrud', 'intergenerational', 'marathon', 'ritchson', 'jamie', 'pnc', 'johns', 'rugby', 'improv']\n",
      "\n",
      "\n",
      "THE TOP 15 WORDS FOR TOPIC #23\n",
      "['tune', 'magnetic', 'bayern', 'ireland', 'reinvention', 'unconscious', 'clutter', 'georgetown', 'celtics', 'disabilities', 'bundesliga', 'leverkusen', 'puzzles', 'dortmund', 'heloc']\n",
      "\n",
      "\n",
      "THE TOP 15 WORDS FOR TOPIC #24\n",
      "['97', 'electrolyte', 'apy', 'taco', 'gaia', 'chinese', 'nhl', 'etfs', 'vintage', 'playoffs', 'rockets', 'tk', 'playoff', 'résumé', 'ginger']\n",
      "\n",
      "\n",
      "THE TOP 15 WORDS FOR TOPIC #25\n",
      "['antihistamines', 'mucus', 'caregiver', 'drug', 'cricket', 'guinea', 'elder', 'authorization', 'cobolli', 'stimulant', 'thc', 'cough', 'adhd', 'rugby', 'purnell']\n",
      "\n",
      "\n",
      "THE TOP 15 WORDS FOR TOPIC #26\n",
      "['tiles', 'testimonies', 'seizure', 'lights', 'indian', 'invited', 'genocide', 'putin', 'sad', 'delegating', 'pickleball', 'porcelain', 'ginkgo', 'serotonin', 'airpods']\n",
      "\n",
      "\n",
      "THE TOP 15 WORDS FOR TOPIC #27\n",
      "['dishonesty', 'reef', 'coral', 'windrush', 'modernization', 'pipes', 'plumbing', 'pocus', 'bleaching', 'gino', 'grabell', 'adderall', 'plumber', 'barnett', 'brokerage']\n",
      "\n",
      "\n",
      "THE TOP 15 WORDS FOR TOPIC #28\n",
      "['savings', 'ceo', 'questions', 'value', 'board', 'industry', 'money', 'company', 'debt', 'job', 'insurance', 'loan', 'million', 'home', 'ai']\n",
      "\n",
      "\n",
      "THE TOP 15 WORDS FOR TOPIC #29\n",
      "['villa', 'airplay', 'staircase', 'solo', 'tunes', 'refresh', 'sox', 'lewis', 'roger', 'magazine', 'dallas', 'counselor', 'stapleton', 'sophia', 'stimulus']\n",
      "\n",
      "\n",
      "THE TOP 15 WORDS FOR TOPIC #30\n",
      "['munis', 'micromanaging', 'scandinavian', 'beauty', 'kelce', 'courthouse', 'elephants', 'kentucky', 'razr', 'funeral', 'galapagos', 'augusta', 'uti', 'muni', 'motorola']\n",
      "\n",
      "\n",
      "THE TOP 15 WORDS FOR TOPIC #31\n",
      "['quote', 'guardians', 'brains', 'guards', 'bayley', 'norway', 'oregon', 'ncaa', 'church', 'dementia', 'brokered', 'altman', 'yc', 'brin', 'combinator']\n",
      "\n",
      "\n",
      "THE TOP 15 WORDS FOR TOPIC #32\n",
      "['custom', 'sixers', 'nike', 'blossom', 'order', 'grove', 'cherry', 'elon', 'taylor', 'swift', 'parkinson', 'tesla', 'gag', 'musk', 'palmer']\n",
      "\n",
      "\n",
      "THE TOP 15 WORDS FOR TOPIC #33\n",
      "['sweden', 'licensed', 'golfers', 'ishbia', 'cathay', 'arabia', 'pga', 'metaverse', 'cambridge', 'vetted', 'anemia', 'intel', 'grams', 'saudi', 'liv']\n",
      "\n",
      "\n",
      "THE TOP 15 WORDS FOR TOPIC #34\n",
      "['charges', 'prison', 'prosecutors', 'donald', 'photograph', 'judge', 'president', 'fullscreen', 'case', 'election', 'hush', 'criminal', 'court', 'trial', 'trump']\n",
      "\n",
      "\n",
      "THE TOP 15 WORDS FOR TOPIC #35\n",
      "['salehpour', 'fha', 'bootcamp', 'smoke', 'salt', 'smoking', 'roberts', 'runner', '203', 'pmi', 'pereira', 'pmp', 'brock', 'obesity', 'nadal']\n",
      "\n",
      "\n",
      "THE TOP 15 WORDS FOR TOPIC #36\n",
      "['recuse', 'hernández', 'denies', 'ofgem', 'goldberg', 'blockage', 'smoking', 'clogs', 'nicotine', 'bolt', 'myanmar', '2d', 'briggs', 'piggybacking', 'pnc']\n",
      "\n",
      "\n",
      "THE TOP 15 WORDS FOR TOPIC #37\n",
      "['gladstone', 'doubles', 'unlocks', 'mbappe', 'accolade', 'etsy', 'belonging', 'lucasfilm', 'journalists', 'agi', 'realism', 'passive', 'award', 'woodard', 'logos']\n",
      "\n",
      "\n"
     ]
    }
   ],
   "source": [
    "for index,topic in enumerate(lda_model.components_):\n",
    "    print(f'THE TOP 15 WORDS FOR TOPIC #{index}')\n",
    "    print([tfidf_vectorizer.get_feature_names_out()[i] for i in topic.argsort()[-15:]])\n",
    "    print('\\n')"
   ]
  }
 ],
 "metadata": {
  "kernelspec": {
   "display_name": "Python 3.11.7 ('base')",
   "language": "python",
   "name": "python3"
  },
  "language_info": {
   "codemirror_mode": {
    "name": "ipython",
    "version": 3
   },
   "file_extension": ".py",
   "mimetype": "text/x-python",
   "name": "python",
   "nbconvert_exporter": "python",
   "pygments_lexer": "ipython3",
   "version": "3.11.7"
  },
  "vscode": {
   "interpreter": {
    "hash": "e508abc5b6f001e1f0869bacd66542349052afec2d331b74eaf6def03e428003"
   }
  }
 },
 "nbformat": 4,
 "nbformat_minor": 2
}
